{
 "cells": [
  {
   "cell_type": "markdown",
   "id": "a46be713-cd52-48b3-96e3-bd82fda42bf0",
   "metadata": {},
   "source": [
    "# Datos del estudiante\n",
    "### Nombre: Jonnathan Campoberde\n",
    "### Materia: Machine Learning\n",
    "### Curso: Abril 2024-2025"
   ]
  },
  {
   "cell_type": "markdown",
   "id": "22936c50-e210-469d-a077-f1eda9b07b76",
   "metadata": {},
   "source": [
    "# Introducción"
   ]
  },
  {
   "cell_type": "markdown",
   "id": "62360f9c-2da1-442d-9440-ad1df1f76fc3",
   "metadata": {},
   "source": [
    "En la presente actividad se usaran los pasos recomendados en la metodología KDD (Knowledge Discovery in Databases) con el objetivo de analizar los datos del Dengue de dos ciudades San Juan e Iquitos obtenidos de driven data para la competicion \"DengAI: Predicting Disease Spread\"  "
   ]
  },
  {
   "cell_type": "markdown",
   "id": "fbab3c73-435d-485c-b7da-6736091046b5",
   "metadata": {},
   "source": [
    "# Fases del Proyecto según KDD"
   ]
  },
  {
   "cell_type": "markdown",
   "id": "19bec582-2938-408b-a966-88349ea9834d",
   "metadata": {},
   "source": [
    "## Fase 1: Comprensión del Negocio y Definición del Problema"
   ]
  },
  {
   "cell_type": "markdown",
   "id": "fde74666-b5ec-4836-afca-6207390cdd95",
   "metadata": {},
   "source": [
    "### Análisis del Contexto:\n",
    "La fiebre del dengue es una enfermedad transmitida por mosquitos que ocurre en las partes tropicales y subtropicales del mundo. En casos leves, los síntomas son similares a los de la gripe: fiebre, erupción cutánea y dolor muscular y articular. En casos graves, la fiebre del dengue puede causar hemorragias graves, presión arterial baja e incluso la muerte.\n",
    "\n",
    "Debido a que es transmitida por mosquitos, la dinámica de transmisión del dengue está relacionada con variables climáticas como la temperatura y la precipitación. Aunque la relación con el clima es compleja, un número creciente de científicos sostiene que el cambio climático probablemente provocará cambios en la distribución que tendrán importantes implicaciones para la salud pública en todo el mundo.\n",
    "\n",
    "En los últimos años, la fiebre del dengue se ha estado propagando. Históricamente, la enfermedad ha sido más prevalente en el sudeste asiático y las islas del Pacífico. Hoy en día, muchos de los casi medio billón de casos por año ocurren en América Latina."
   ]
  },
  {
   "cell_type": "markdown",
   "id": "1ba04904-a2a9-4270-b2eb-9e0bde5a54f8",
   "metadata": {},
   "source": [
    "### Definición del Problema: \n",
    "El objetivo de DengAI es predecir el número de casos de dengue en una semana particular basado en datos climáticos y ubicación. Existe un conjunto de datos de entrenamiento y un conjunto de datos de prueba. MAE (Error Absoluto Medio) es una métrica utilizada para calcular la puntuación y el conjunto de datos de entrenamiento abarca 28 años de valores semanales para 2 ciudades (1456 semanas). Los datos de prueba son más pequeños y abarcan 5 y 3 años (dependiendo de la ciudad).\n",
    "\n",
    "Esta problematica ha sido abordada debido a que, la fiebre del dengue es una enfermedad transmitida por mosquitos que ocurre en las partes tropicales y subtropicales del mundo. Debido a que es transmitida por mosquitos, la transmisión está relacionada con variables climáticas y meteorológicas."
   ]
  },
  {
   "cell_type": "markdown",
   "id": "127da939-3282-46f9-a56e-f5a66567feab",
   "metadata": {},
   "source": [
    "## Fase 2: Comprensión de los Datos"
   ]
  },
  {
   "cell_type": "markdown",
   "id": "08e7ade2-b082-44f3-9261-e3ef44625909",
   "metadata": {},
   "source": [
    "## Recopilación de Datos\n",
    "Los datos a ser usados a lo largo del analisis fueron proporcionados por driven data, los cuales contienen multiples caracteristicas de la ciudad, datos meteorologicos relacionadas a la problematica de los mosquitos del dengue, los mismos que se pueden encontrar en la siguiente enlace https://erdem.pl/2020/07/deng-ai-how-to-approach-data-science-competitions-eda"
   ]
  },
  {
   "cell_type": "markdown",
   "id": "5a88c530-1869-48ea-9c52-1b2f8ffc5736",
   "metadata": {},
   "source": [
    "### Descripción de los datos\n",
    "\n",
    "| Columna                           | Descripción                                                        |\n",
    "|-----------------------------------|--------------------------------------------------------------------|\n",
    "| city                              | Abreviaturas de ciudades: sj para San Juan e iq para Iquitos       |\n",
    "| week_start_date                   | Fecha dada en formato yyyy-mm-dd                                   |\n",
    "| station_max_temp_c                | Temperatura máxima                                                 |\n",
    "| station_min_temp_c                | Temperatura mínima                                                 |\n",
    "| station_avg_temp_c                | Temperatura promedio                                               |\n",
    "| station_precip_mm                 | Precipitación total                                                |\n",
    "| station_diur_temp_rng_c           | Rango de temperatura diurna                                        |\n",
    "| precipitation_amt_mm              | Precipitación total                                                |\n",
    "| reanalysis_sat_precip_amt_mm      | Precipitación total                                                |\n",
    "| reanalysis_dew_point_temp_k       | Temperatura media del punto de rocío                               |\n",
    "| reanalysis_air_temp_k             | Temperatura media del aire                                         |\n",
    "| reanalysis_relative_humidity_percent | Humedad relativa media                                             |\n",
    "| reanalysis_specific_humidity_g_per_kg | Humedad específica media                                           |\n",
    "| reanalysis_precip_amt_kg_per_m2   | Precipitación total                                                |\n",
    "| reanalysis_max_air_temp_k         | Temperatura máxima del aire                                        |\n",
    "| reanalysis_min_air_temp_k         | Temperatura mínima del aire                                        |\n",
    "| reanalysis_avg_temp_k             | Temperatura promedio del aire                                      |\n",
    "| reanalysis_tdtr_k                 | Rango de temperatura diurna                                        |\n",
    "| ndvi_se                           | Píxel al sureste del centroide de la ciudad                        |\n",
    "| ndvi_sw                           | Píxel al suroeste del centroide de la ciudad                       |\n",
    "| ndvi_ne                           | Píxel al noreste del centroide de la ciudad                        |\n",
    "| ndvi_nw                           | Píxel al noroeste del centroide de la ciudad                       |\n"
   ]
  },
  {
   "cell_type": "markdown",
   "id": "fb69ac60-03f6-4815-858d-44786b26183e",
   "metadata": {},
   "source": [
    "## Exploración de Datos Preliminar\n",
    "Un análisis exploratorio para comprender la estructura y la calidad de los datos, identificar posibles sesgos y evaluar la idoneidad de los datos."
   ]
  },
  {
   "cell_type": "markdown",
   "id": "045348f7-190b-43b2-b90e-c1fb079abdcb",
   "metadata": {},
   "source": [
    "### Importación de librerías necesarias para el análisis"
   ]
  },
  {
   "cell_type": "code",
   "execution_count": null,
   "id": "eddb1ec9-0036-4e78-b6a8-c9e8797651b7",
   "metadata": {},
   "outputs": [],
   "source": [
    "import pandas as pd\n",
    "import numpy as np"
   ]
  },
  {
   "cell_type": "code",
   "execution_count": null,
   "id": "84706671-b62c-4b9e-8a56-24c2593bcdca",
   "metadata": {},
   "outputs": [],
   "source": []
  },
  {
   "cell_type": "code",
   "execution_count": null,
   "id": "269b1fa2-aefe-41ea-91dd-1f3551457871",
   "metadata": {},
   "outputs": [],
   "source": [
    "# Introducción"
   ]
  },
  {
   "cell_type": "code",
   "execution_count": 5,
   "id": "689f1970-1434-48fb-911a-f8d1874cb6e0",
   "metadata": {},
   "outputs": [
    {
     "data": {
      "text/html": [
       "<div>\n",
       "<style scoped>\n",
       "    .dataframe tbody tr th:only-of-type {\n",
       "        vertical-align: middle;\n",
       "    }\n",
       "\n",
       "    .dataframe tbody tr th {\n",
       "        vertical-align: top;\n",
       "    }\n",
       "\n",
       "    .dataframe thead th {\n",
       "        text-align: right;\n",
       "    }\n",
       "</style>\n",
       "<table border=\"1\" class=\"dataframe\">\n",
       "  <thead>\n",
       "    <tr style=\"text-align: right;\">\n",
       "      <th></th>\n",
       "      <th>city</th>\n",
       "      <th>year</th>\n",
       "      <th>weekofyear</th>\n",
       "      <th>week_start_date</th>\n",
       "      <th>ndvi_ne</th>\n",
       "      <th>ndvi_nw</th>\n",
       "      <th>ndvi_se</th>\n",
       "      <th>ndvi_sw</th>\n",
       "      <th>precipitation_amt_mm</th>\n",
       "      <th>reanalysis_air_temp_k</th>\n",
       "      <th>...</th>\n",
       "      <th>reanalysis_precip_amt_kg_per_m2</th>\n",
       "      <th>reanalysis_relative_humidity_percent</th>\n",
       "      <th>reanalysis_sat_precip_amt_mm</th>\n",
       "      <th>reanalysis_specific_humidity_g_per_kg</th>\n",
       "      <th>reanalysis_tdtr_k</th>\n",
       "      <th>station_avg_temp_c</th>\n",
       "      <th>station_diur_temp_rng_c</th>\n",
       "      <th>station_max_temp_c</th>\n",
       "      <th>station_min_temp_c</th>\n",
       "      <th>station_precip_mm</th>\n",
       "    </tr>\n",
       "  </thead>\n",
       "  <tbody>\n",
       "    <tr>\n",
       "      <th>0</th>\n",
       "      <td>sj</td>\n",
       "      <td>1990</td>\n",
       "      <td>18</td>\n",
       "      <td>1990-04-30</td>\n",
       "      <td>0.122600</td>\n",
       "      <td>0.103725</td>\n",
       "      <td>0.198483</td>\n",
       "      <td>0.177617</td>\n",
       "      <td>12.42</td>\n",
       "      <td>297.572857</td>\n",
       "      <td>...</td>\n",
       "      <td>32.00</td>\n",
       "      <td>73.365714</td>\n",
       "      <td>12.42</td>\n",
       "      <td>14.012857</td>\n",
       "      <td>2.628571</td>\n",
       "      <td>25.442857</td>\n",
       "      <td>6.900000</td>\n",
       "      <td>29.4</td>\n",
       "      <td>20.0</td>\n",
       "      <td>16.0</td>\n",
       "    </tr>\n",
       "    <tr>\n",
       "      <th>1</th>\n",
       "      <td>sj</td>\n",
       "      <td>1990</td>\n",
       "      <td>19</td>\n",
       "      <td>1990-05-07</td>\n",
       "      <td>0.169900</td>\n",
       "      <td>0.142175</td>\n",
       "      <td>0.162357</td>\n",
       "      <td>0.155486</td>\n",
       "      <td>22.82</td>\n",
       "      <td>298.211429</td>\n",
       "      <td>...</td>\n",
       "      <td>17.94</td>\n",
       "      <td>77.368571</td>\n",
       "      <td>22.82</td>\n",
       "      <td>15.372857</td>\n",
       "      <td>2.371429</td>\n",
       "      <td>26.714286</td>\n",
       "      <td>6.371429</td>\n",
       "      <td>31.7</td>\n",
       "      <td>22.2</td>\n",
       "      <td>8.6</td>\n",
       "    </tr>\n",
       "    <tr>\n",
       "      <th>2</th>\n",
       "      <td>sj</td>\n",
       "      <td>1990</td>\n",
       "      <td>20</td>\n",
       "      <td>1990-05-14</td>\n",
       "      <td>0.032250</td>\n",
       "      <td>0.172967</td>\n",
       "      <td>0.157200</td>\n",
       "      <td>0.170843</td>\n",
       "      <td>34.54</td>\n",
       "      <td>298.781429</td>\n",
       "      <td>...</td>\n",
       "      <td>26.10</td>\n",
       "      <td>82.052857</td>\n",
       "      <td>34.54</td>\n",
       "      <td>16.848571</td>\n",
       "      <td>2.300000</td>\n",
       "      <td>26.714286</td>\n",
       "      <td>6.485714</td>\n",
       "      <td>32.2</td>\n",
       "      <td>22.8</td>\n",
       "      <td>41.4</td>\n",
       "    </tr>\n",
       "    <tr>\n",
       "      <th>3</th>\n",
       "      <td>sj</td>\n",
       "      <td>1990</td>\n",
       "      <td>21</td>\n",
       "      <td>1990-05-21</td>\n",
       "      <td>0.128633</td>\n",
       "      <td>0.245067</td>\n",
       "      <td>0.227557</td>\n",
       "      <td>0.235886</td>\n",
       "      <td>15.36</td>\n",
       "      <td>298.987143</td>\n",
       "      <td>...</td>\n",
       "      <td>13.90</td>\n",
       "      <td>80.337143</td>\n",
       "      <td>15.36</td>\n",
       "      <td>16.672857</td>\n",
       "      <td>2.428571</td>\n",
       "      <td>27.471429</td>\n",
       "      <td>6.771429</td>\n",
       "      <td>33.3</td>\n",
       "      <td>23.3</td>\n",
       "      <td>4.0</td>\n",
       "    </tr>\n",
       "    <tr>\n",
       "      <th>4</th>\n",
       "      <td>sj</td>\n",
       "      <td>1990</td>\n",
       "      <td>22</td>\n",
       "      <td>1990-05-28</td>\n",
       "      <td>0.196200</td>\n",
       "      <td>0.262200</td>\n",
       "      <td>0.251200</td>\n",
       "      <td>0.247340</td>\n",
       "      <td>7.52</td>\n",
       "      <td>299.518571</td>\n",
       "      <td>...</td>\n",
       "      <td>12.20</td>\n",
       "      <td>80.460000</td>\n",
       "      <td>7.52</td>\n",
       "      <td>17.210000</td>\n",
       "      <td>3.014286</td>\n",
       "      <td>28.942857</td>\n",
       "      <td>9.371429</td>\n",
       "      <td>35.0</td>\n",
       "      <td>23.9</td>\n",
       "      <td>5.8</td>\n",
       "    </tr>\n",
       "  </tbody>\n",
       "</table>\n",
       "<p>5 rows × 24 columns</p>\n",
       "</div>"
      ],
      "text/plain": [
       "  city  year  weekofyear week_start_date   ndvi_ne   ndvi_nw   ndvi_se  \\\n",
       "0   sj  1990          18      1990-04-30  0.122600  0.103725  0.198483   \n",
       "1   sj  1990          19      1990-05-07  0.169900  0.142175  0.162357   \n",
       "2   sj  1990          20      1990-05-14  0.032250  0.172967  0.157200   \n",
       "3   sj  1990          21      1990-05-21  0.128633  0.245067  0.227557   \n",
       "4   sj  1990          22      1990-05-28  0.196200  0.262200  0.251200   \n",
       "\n",
       "    ndvi_sw  precipitation_amt_mm  reanalysis_air_temp_k  ...  \\\n",
       "0  0.177617                 12.42             297.572857  ...   \n",
       "1  0.155486                 22.82             298.211429  ...   \n",
       "2  0.170843                 34.54             298.781429  ...   \n",
       "3  0.235886                 15.36             298.987143  ...   \n",
       "4  0.247340                  7.52             299.518571  ...   \n",
       "\n",
       "   reanalysis_precip_amt_kg_per_m2  reanalysis_relative_humidity_percent  \\\n",
       "0                            32.00                             73.365714   \n",
       "1                            17.94                             77.368571   \n",
       "2                            26.10                             82.052857   \n",
       "3                            13.90                             80.337143   \n",
       "4                            12.20                             80.460000   \n",
       "\n",
       "   reanalysis_sat_precip_amt_mm  reanalysis_specific_humidity_g_per_kg  \\\n",
       "0                         12.42                              14.012857   \n",
       "1                         22.82                              15.372857   \n",
       "2                         34.54                              16.848571   \n",
       "3                         15.36                              16.672857   \n",
       "4                          7.52                              17.210000   \n",
       "\n",
       "   reanalysis_tdtr_k  station_avg_temp_c  station_diur_temp_rng_c  \\\n",
       "0           2.628571           25.442857                 6.900000   \n",
       "1           2.371429           26.714286                 6.371429   \n",
       "2           2.300000           26.714286                 6.485714   \n",
       "3           2.428571           27.471429                 6.771429   \n",
       "4           3.014286           28.942857                 9.371429   \n",
       "\n",
       "   station_max_temp_c  station_min_temp_c  station_precip_mm  \n",
       "0                29.4                20.0               16.0  \n",
       "1                31.7                22.2                8.6  \n",
       "2                32.2                22.8               41.4  \n",
       "3                33.3                23.3                4.0  \n",
       "4                35.0                23.9                5.8  \n",
       "\n",
       "[5 rows x 24 columns]"
      ]
     },
     "execution_count": 5,
     "metadata": {},
     "output_type": "execute_result"
    }
   ],
   "source": [
    "df = pd.read_csv('dengue_features_train.csv')\n",
    "df.head()"
   ]
  }
 ],
 "metadata": {
  "kernelspec": {
   "display_name": "Python 3 (ipykernel)",
   "language": "python",
   "name": "python3"
  },
  "language_info": {
   "codemirror_mode": {
    "name": "ipython",
    "version": 3
   },
   "file_extension": ".py",
   "mimetype": "text/x-python",
   "name": "python",
   "nbconvert_exporter": "python",
   "pygments_lexer": "ipython3",
   "version": "3.11.9"
  }
 },
 "nbformat": 4,
 "nbformat_minor": 5
}
